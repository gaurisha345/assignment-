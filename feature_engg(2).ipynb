{
 "cells": [
  {
   "cell_type": "code",
   "execution_count": 1,
   "id": "a3d888cb-4955-45e6-a896-efa454028e56",
   "metadata": {},
   "outputs": [
    {
     "data": {
      "text/plain": [
       "'\\nlabel encoding refers to the assiging a unique new integer to each category in the categorical data\\nfor eg : size of the clothes like s, m,l are categories\\n\\noriginal encoding refers when the categorical variable has its own ranking \\nfor eg: education level has degrees like btech,mtech,phd\\n'"
      ]
     },
     "execution_count": 1,
     "metadata": {},
     "output_type": "execute_result"
    }
   ],
   "source": [
    "#q1\n",
    "'''\n",
    "label encoding refers to the assiging a unique new integer to each category in the categorical data\n",
    "for eg : size of the clothes like s, m,l are categories\n",
    "\n",
    "original encoding refers when the categorical variable has its own ranking \n",
    "for eg: education level has degrees like btech,mtech,phd\n",
    "'''"
   ]
  },
  {
   "cell_type": "code",
   "execution_count": 2,
   "id": "ac952e4d-de1a-4e30-aa95-e7cad4f53671",
   "metadata": {},
   "outputs": [
    {
     "data": {
      "text/plain": [
       "'\\nTarget Guided Ordinal Encoding is a technique used to transform categorical variables into numerical values based on their relationship with the target \\nvariable in a way that preserves the ordinal information of the categories. This technique is \\nparticularly useful when dealing with categorical variables that have an inherent order and when you want to leverage the predictive power of the \\ntarget variable\\n'"
      ]
     },
     "execution_count": 2,
     "metadata": {},
     "output_type": "execute_result"
    }
   ],
   "source": [
    "#q2\n",
    "'''\n",
    "Target Guided Ordinal Encoding is a technique used to transform categorical variables into numerical values based on their relationship with the target \n",
    "variable in a way that preserves the ordinal information of the categories. This technique is \n",
    "particularly useful when dealing with categorical variables that have an inherent order and when you want to leverage the predictive power of the \n",
    "target variable\n",
    "'''\n"
   ]
  },
  {
   "cell_type": "code",
   "execution_count": 3,
   "id": "27e8f85a-85b7-4ab3-85c7-72373f306850",
   "metadata": {},
   "outputs": [
    {
     "name": "stdout",
     "output_type": "stream",
     "text": [
      "Encoded Colors: [2 1 0 1 2]\n",
      "Encoded Sizes: [1 2 0 1 2]\n",
      "Encoded Materials: [2 0 1 0 1]\n"
     ]
    }
   ],
   "source": [
    "#q4\n",
    "from sklearn.preprocessing import LabelEncoder\n",
    "\n",
    "# Sample data\n",
    "colors = ['red', 'green', 'blue', 'green', 'red']\n",
    "sizes = ['medium', 'small', 'large', 'medium', 'small']\n",
    "materials = ['wood', 'metal', 'plastic', 'metal', 'plastic']\n",
    "\n",
    "# Initialize LabelEncoder\n",
    "label_encoder = LabelEncoder()\n",
    "\n",
    "# Fit and transform for each categorical variable\n",
    "encoded_colors = label_encoder.fit_transform(colors)\n",
    "encoded_sizes = label_encoder.fit_transform(sizes)\n",
    "encoded_materials = label_encoder.fit_transform(materials)\n",
    "\n",
    "# Display the encoded values\n",
    "print(\"Encoded Colors:\", encoded_colors)\n",
    "print(\"Encoded Sizes:\", encoded_sizes)\n",
    "print(\"Encoded Materials:\", encoded_materials)\n",
    "\n"
   ]
  },
  {
   "cell_type": "code",
   "execution_count": 4,
   "id": "c1cae3e8-33d7-40fe-ab6c-3e2858406f3f",
   "metadata": {},
   "outputs": [
    {
     "data": {
      "text/plain": [
       "'\\nfor  gender we use label encoding\\nfor education we use orddinal encoding\\n'"
      ]
     },
     "execution_count": 4,
     "metadata": {},
     "output_type": "execute_result"
    }
   ],
   "source": [
    "#q6\n",
    "'''\n",
    "for  gender we use label encoding\n",
    "for education we use orddinal encoding\n",
    "'''"
   ]
  },
  {
   "cell_type": "code",
   "execution_count": null,
   "id": "a8fc7f3c-4b75-4fc0-84f9-228b4858467b",
   "metadata": {},
   "outputs": [],
   "source": []
  }
 ],
 "metadata": {
  "kernelspec": {
   "display_name": "Python 3 (ipykernel)",
   "language": "python",
   "name": "python3"
  },
  "language_info": {
   "codemirror_mode": {
    "name": "ipython",
    "version": 3
   },
   "file_extension": ".py",
   "mimetype": "text/x-python",
   "name": "python",
   "nbconvert_exporter": "python",
   "pygments_lexer": "ipython3",
   "version": "3.10.8"
  }
 },
 "nbformat": 4,
 "nbformat_minor": 5
}
