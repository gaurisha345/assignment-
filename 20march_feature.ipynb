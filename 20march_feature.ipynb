{
 "cells": [
  {
   "cell_type": "code",
   "execution_count": 1,
   "id": "7649f982-df1a-4789-9c00-1ec7d6b1f438",
   "metadata": {},
   "outputs": [
    {
     "data": {
      "text/plain": [
       "'\\nits aim is to convert categorical feature into the numerical value so that ml model can unnderstand the categorical value and use in \\ntraining the value it is of following types\\na. nominal hot encoding\\nb. ordinal and label encoding\\nc. target guided ordinal encoding\\n'"
      ]
     },
     "execution_count": 1,
     "metadata": {},
     "output_type": "execute_result"
    }
   ],
   "source": [
    "#q1\n",
    "'''\n",
    "its aim is to convert categorical feature into the numerical value so that ml model can unnderstand the categorical value and use in \n",
    "training the value it is of following types\n",
    "a. nominal hot encoding\n",
    "b. ordinal and label encoding\n",
    "c. target guided ordinal encoding\n",
    "'''"
   ]
  },
  {
   "cell_type": "code",
   "execution_count": 2,
   "id": "1c87bdb8-fbe3-4526-9194-f202421cb288",
   "metadata": {},
   "outputs": [
    {
     "data": {
      "text/plain": [
       "'\\nnormal encoding is a techqnuie used to transform categorical variable that have intrnsic ordering into numerical value that can be\\nused in ml models . one common method for this is to create a binary vector for each category in the variables\\n'"
      ]
     },
     "execution_count": 2,
     "metadata": {},
     "output_type": "execute_result"
    }
   ],
   "source": [
    "#q2\n",
    "'''\n",
    "normal encoding is a techqnuie used to transform categorical variable that have intrnsic ordering into numerical value that can be\n",
    "used in ml models . one common method for this is to create a binary vector for each category in the variables\n",
    "'''"
   ]
  },
  {
   "cell_type": "code",
   "execution_count": 3,
   "id": "a47f5ba3-d483-48fe-a439-3a09f8a7bad3",
   "metadata": {},
   "outputs": [
    {
     "data": {
      "text/plain": [
       "'\\nnominal encoding is prefered when\\na. ordinal relationship\\nb. dimenshionality\\n'"
      ]
     },
     "execution_count": 3,
     "metadata": {},
     "output_type": "execute_result"
    }
   ],
   "source": [
    "#q3\n",
    "'''\n",
    "nominal encoding is prefered when\n",
    "a. ordinal relationship\n",
    "b. dimenshionality\n",
    "'''"
   ]
  },
  {
   "cell_type": "code",
   "execution_count": 4,
   "id": "52970053-1662-409d-a503-3d5bf29cffec",
   "metadata": {},
   "outputs": [
    {
     "data": {
      "text/plain": [
       "'\\n10 categories\\n'"
      ]
     },
     "execution_count": 4,
     "metadata": {},
     "output_type": "execute_result"
    }
   ],
   "source": [
    "#q4\n",
    "'''\n",
    "10 categories\n",
    "'''"
   ]
  },
  {
   "cell_type": "code",
   "execution_count": null,
   "id": "c7a10c9b-ac00-42f5-8586-4519febc920b",
   "metadata": {},
   "outputs": [],
   "source": [
    "#q6\n",
    "'''\n"
   ]
  }
 ],
 "metadata": {
  "kernelspec": {
   "display_name": "Python 3 (ipykernel)",
   "language": "python",
   "name": "python3"
  },
  "language_info": {
   "codemirror_mode": {
    "name": "ipython",
    "version": 3
   },
   "file_extension": ".py",
   "mimetype": "text/x-python",
   "name": "python",
   "nbconvert_exporter": "python",
   "pygments_lexer": "ipython3",
   "version": "3.10.8"
  }
 },
 "nbformat": 4,
 "nbformat_minor": 5
}
