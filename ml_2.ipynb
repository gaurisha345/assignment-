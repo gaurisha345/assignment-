{
 "cells": [
  {
   "cell_type": "code",
   "execution_count": null,
   "id": "2452fef2-b61e-4342-9851-0e40ebcf2a9e",
   "metadata": {},
   "outputs": [],
   "source": [
    "#q1\n",
    "'''\n",
    "overfiting occur when it is trained accurately and when it is tested on unknown dataset it does not perform accurately\n",
    "underfitting occur when it is trained in medium level and when tested results are almost same\n",
    "'''"
   ]
  },
  {
   "cell_type": "code",
   "execution_count": null,
   "id": "6eb73069-d081-44b0-badb-2171a788be76",
   "metadata": {},
   "outputs": [],
   "source": [
    "#q2\n",
    "'''\n",
    "to avoid overfitting we use :\n",
    "a. cross validation\n",
    "b. regularisation\n",
    "c. dropout\n",
    "d. early stoping\n",
    "'''"
   ]
  },
  {
   "cell_type": "code",
   "execution_count": null,
   "id": "defb83f2-13e7-4ca2-b4d0-bb2d1a6397e7",
   "metadata": {},
   "outputs": [],
   "source": [
    "#q4\n",
    "'''\n",
    "bias refers to the error occur when we introduce project in a real life \n",
    "variance refers to the variablity of the data model prediction across diffrent training dataset\n",
    "'''\n"
   ]
  },
  {
   "cell_type": "code",
   "execution_count": null,
   "id": "28f1234f-1463-4126-93a2-19036fdd73d8",
   "metadata": {},
   "outputs": [],
   "source": [
    "#q5\n",
    "'''\n",
    "common methods to detect underfitting overfitting are :\n",
    "a. cross validation\n",
    "b. learning curves\n",
    "c. feature importance\n",
    "'''"
   ]
  },
  {
   "cell_type": "code",
   "execution_count": null,
   "id": "2b30b275-424d-4414-b097-e54fdbf9ba08",
   "metadata": {},
   "outputs": [],
   "source": [
    "#q6\n"
   ]
  }
 ],
 "metadata": {
  "kernelspec": {
   "display_name": "Python 3 (ipykernel)",
   "language": "python",
   "name": "python3"
  },
  "language_info": {
   "codemirror_mode": {
    "name": "ipython",
    "version": 3
   },
   "file_extension": ".py",
   "mimetype": "text/x-python",
   "name": "python",
   "nbconvert_exporter": "python",
   "pygments_lexer": "ipython3",
   "version": "3.10.8"
  }
 },
 "nbformat": 4,
 "nbformat_minor": 5
}
