{
 "cells": [
  {
   "cell_type": "code",
   "execution_count": 1,
   "id": "60392683-ddc9-4fc7-a449-cf5e2a6c2878",
   "metadata": {},
   "outputs": [
    {
     "data": {
      "text/plain": [
       "'\\nai: it refers to the simulation of machine so that they can think like human think for eg : chatbots,alexa\\nml : subset of ai that involves algorithm and stastical models so that it can learn from previous experience eg : spam filters\\ndl : subset of ai it employs artifical neural network with multiple layers eg: cnn\\n'"
      ]
     },
     "execution_count": 1,
     "metadata": {},
     "output_type": "execute_result"
    }
   ],
   "source": [
    "#q1\n",
    "\"\"\"\n",
    "ai: it refers to the simulation of machine so that they can think like human think for eg : chatbots,alexa\n",
    "ml : subset of ai that involves algorithm and stastical models so that it can learn from previous experience eg : spam filters\n",
    "dl : subset of ai it employs artifical neural network with multiple layers eg: cnn\n",
    "\"\"\""
   ]
  },
  {
   "cell_type": "code",
   "execution_count": 2,
   "id": "07678b25-937e-45fe-8ed6-bf1c4ec5a5cd",
   "metadata": {},
   "outputs": [
    {
     "data": {
      "text/plain": [
       "'\\nsupervised learning techqnuie is use to train the dataset in which the output is present in the form of labels eg:\\nknn,svm,random forest\\n'"
      ]
     },
     "execution_count": 2,
     "metadata": {},
     "output_type": "execute_result"
    }
   ],
   "source": [
    "#q2\n",
    "'''\n",
    "supervised learning techqnuie is use to train the dataset in which the output is present in the form of labels eg:\n",
    "knn,svm,random forest\n",
    "'''\n"
   ]
  },
  {
   "cell_type": "code",
   "execution_count": 3,
   "id": "380f4c75-aa0b-42a2-8f60-1bd7253c7ee3",
   "metadata": {},
   "outputs": [
    {
     "data": {
      "text/plain": [
       "'\\nunsupervised learning algorithm where the dataset are trained without the help of labels it learns from the help of labels here the \\noutput is not provided\\neg: clustering\\n'"
      ]
     },
     "execution_count": 3,
     "metadata": {},
     "output_type": "execute_result"
    }
   ],
   "source": [
    "#q3\n",
    "'''\n",
    "unsupervised learning algorithm where the dataset are trained without the help of labels it learns from the help of labels here the \n",
    "output is not provided\n",
    "eg: clustering\n",
    "'''"
   ]
  },
  {
   "cell_type": "code",
   "execution_count": 4,
   "id": "b9599bf2-db22-4846-bd5f-d8e5bcc819ce",
   "metadata": {},
   "outputs": [
    {
     "data": {
      "text/plain": [
       "'\\nsupervised : in this models learn with help of the label dataset in this output us given\\nunsupervised : in this models learn with help of the non label dataset in this output is not given\\nsemi-supervised : Utilizes a mix of labeled and unlabeled data to improve learning when limited labeled data is available.\\n'"
      ]
     },
     "execution_count": 4,
     "metadata": {},
     "output_type": "execute_result"
    }
   ],
   "source": [
    "#q5\n",
    "'''\n",
    "supervised : in this models learn with help of the label dataset in this output us given\n",
    "unsupervised : in this models learn with help of the non label dataset in this output is not given\n",
    "semi-supervised : Utilizes a mix of labeled and unlabeled data to improve learning when limited labeled data is available.\n",
    "'''"
   ]
  },
  {
   "cell_type": "code",
   "execution_count": 5,
   "id": "a026e460-7dc6-436a-977d-79c2a7ad51bb",
   "metadata": {},
   "outputs": [
    {
     "data": {
      "text/plain": [
       "\"\\ntrain data : use to train the data model it's data that learn from model\\ntest data : Data used to evaluate the model's performance after training. It helps assess how well the model generalizes to new, unseen data.\\nvalidate data :  An additional dataset used during training to tune hyperparameters and prevent overfitting. It helps fine-tune the model's performance\\n\""
      ]
     },
     "execution_count": 5,
     "metadata": {},
     "output_type": "execute_result"
    }
   ],
   "source": [
    "#q6\n",
    "'''\n",
    "train data : use to train the data model it's data that learn from model\n",
    "test data : Data used to evaluate the model's performance after training. It helps assess how well the model generalizes to new, unseen data.\n",
    "validate data :  An additional dataset used during training to tune hyperparameters and prevent overfitting. It helps fine-tune the model's performance\n",
    "'''"
   ]
  },
  {
   "cell_type": "code",
   "execution_count": null,
   "id": "41d8df4a-de7b-4f64-b2a3-2f3b2476af42",
   "metadata": {},
   "outputs": [],
   "source": [
    "#q8\n",
    "'''\n",
    "supervised : classification, regression, knn,cnn,random forest,svm\n",
    "unsupervised : clustering,pc\n"
   ]
  }
 ],
 "metadata": {
  "kernelspec": {
   "display_name": "Python 3 (ipykernel)",
   "language": "python",
   "name": "python3"
  },
  "language_info": {
   "codemirror_mode": {
    "name": "ipython",
    "version": 3
   },
   "file_extension": ".py",
   "mimetype": "text/x-python",
   "name": "python",
   "nbconvert_exporter": "python",
   "pygments_lexer": "ipython3",
   "version": "3.10.8"
  }
 },
 "nbformat": 4,
 "nbformat_minor": 5
}
