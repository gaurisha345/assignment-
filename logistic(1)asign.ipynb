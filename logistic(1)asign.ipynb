{
 "cells": [
  {
   "cell_type": "code",
   "execution_count": 1,
   "id": "80564c1b-7a0f-461a-82c7-7189d01cc17b",
   "metadata": {},
   "outputs": [
    {
     "data": {
      "text/plain": [
       "\"\\nin logistic regression we use squashing techqnuie wheras linear regression don't in linear regression\\noutput is continous wheras in logistic regression output is classifed it can be binary classification or\\nmulticlass classification\\nfor eg : in case of diabetics prediction we use logistic regression as it will be more useful\\n\""
      ]
     },
     "execution_count": 1,
     "metadata": {},
     "output_type": "execute_result"
    }
   ],
   "source": [
    "#q1\n",
    "'''\n",
    "in logistic regression we use squashing techqnuie wheras linear regression don't in linear regression\n",
    "output is continous wheras in logistic regression output is classifed it can be binary classification or\n",
    "multiclass classification\n",
    "for eg : in case of diabetics prediction we use logistic regression as it will be more useful\n",
    "'''"
   ]
  },
  {
   "cell_type": "code",
   "execution_count": 2,
   "id": "c34bfff4-8177-4d52-8be8-9ca05889a364",
   "metadata": {},
   "outputs": [
    {
     "data": {
      "text/plain": [
       "'\\nRegularization is a technique used in logistic regression (and other machine learning models) to prevent \\noverfitting, which occurs when the model learns the training data too well, capturing noise and making it\\nperform poorly on unseen data. Regularization introduces a penalty term into the logistic regression cost\\nfunction, discouraging the \\nmodel from fitting the training data too closely and thereby improving its generalization to new, unseen\\ndata.\\n'"
      ]
     },
     "execution_count": 2,
     "metadata": {},
     "output_type": "execute_result"
    }
   ],
   "source": [
    "#q3\n",
    "'''\n",
    "Regularization is a technique used in logistic regression (and other machine learning models) to prevent \n",
    "overfitting, which occurs when the model learns the training data too well, capturing noise and making it\n",
    "perform poorly on unseen data. Regularization introduces a penalty term into the logistic regression cost\n",
    "function, discouraging the \n",
    "model from fitting the training data too closely and thereby improving its generalization to new, unseen\n",
    "data.\n",
    "'''"
   ]
  },
  {
   "cell_type": "code",
   "execution_count": 3,
   "id": "02d792f7-5c30-4946-a74b-a4675c4b789b",
   "metadata": {},
   "outputs": [
    {
     "data": {
      "text/plain": [
       "'\\nFeature selection is a crucial step in building logistic regression models. It involves choosing a subset of\\nthe most relevant features (independent variables) \\nfrom the available set to improve model performance, reduce overfitting, and enhance model interpretability.\\n'"
      ]
     },
     "execution_count": 3,
     "metadata": {},
     "output_type": "execute_result"
    }
   ],
   "source": [
    "#q5\n",
    "'''\n",
    "Feature selection is a crucial step in building logistic regression models. It involves choosing a subset of\n",
    "the most relevant features (independent variables) \n",
    "from the available set to improve model performance, reduce overfitting, and enhance model interpretability.\n",
    "'''"
   ]
  },
  {
   "cell_type": "code",
   "execution_count": 4,
   "id": "3ff2f6f9-8217-430d-a020-b8ae799012c4",
   "metadata": {},
   "outputs": [
    {
     "data": {
      "text/plain": [
       "'\\nin case of imbalance datset we will use oversampling,undersampling to make dataset balance \\nand we also use precision , recall to check how our model work and also the f-beta score\\n'"
      ]
     },
     "execution_count": 4,
     "metadata": {},
     "output_type": "execute_result"
    }
   ],
   "source": [
    "#q6\n",
    "'''\n",
    "in case of imbalance datset we will use oversampling,undersampling to make dataset balance \n",
    "and we also use precision , recall to check how our model work and also the f-beta score\n",
    "'''"
   ]
  },
  {
   "cell_type": "code",
   "execution_count": null,
   "id": "c708a5f3-db96-4500-9db5-148b49db2cda",
   "metadata": {},
   "outputs": [],
   "source": [
    "#q7\n",
    "'''\n"
   ]
  }
 ],
 "metadata": {
  "kernelspec": {
   "display_name": "Python 3 (ipykernel)",
   "language": "python",
   "name": "python3"
  },
  "language_info": {
   "codemirror_mode": {
    "name": "ipython",
    "version": 3
   },
   "file_extension": ".py",
   "mimetype": "text/x-python",
   "name": "python",
   "nbconvert_exporter": "python",
   "pygments_lexer": "ipython3",
   "version": "3.10.8"
  }
 },
 "nbformat": 4,
 "nbformat_minor": 5
}
