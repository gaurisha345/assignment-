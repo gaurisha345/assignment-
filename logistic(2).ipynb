{
 "cells": [
  {
   "cell_type": "code",
   "execution_count": 1,
   "id": "0d911183-e4ed-4888-a19d-57ed10642402",
   "metadata": {},
   "outputs": [
    {
     "data": {
      "text/plain": [
       "'\\nin grid search cv we will try all possible parameters to find the accuracy for eg : we get best\\naccuracy of logistic regression at penalty of elastic net, newton cg\\n'"
      ]
     },
     "execution_count": 1,
     "metadata": {},
     "output_type": "execute_result"
    }
   ],
   "source": [
    "#q1\n",
    "'''\n",
    "in grid search cv we will try all possible parameters to find the accuracy for eg : we get best\n",
    "accuracy of logistic regression at penalty of elastic net, newton cg\n",
    "'''"
   ]
  },
  {
   "cell_type": "code",
   "execution_count": 2,
   "id": "4ea8e4fc-c852-47ab-b788-7c5804684e4c",
   "metadata": {},
   "outputs": [
    {
     "data": {
      "text/plain": [
       "'\\nin grid search cv all parameters are taken once and it does not work for large dataset as it will\\nincrease time complexity and in randomised search cv we have one parameter n_iter which only \\ntake 10 things at at time and it work on large dataset easily with low time complexity\\n'"
      ]
     },
     "execution_count": 2,
     "metadata": {},
     "output_type": "execute_result"
    }
   ],
   "source": [
    "#q2\n",
    "'''\n",
    "in grid search cv all parameters are taken once and it does not work for large dataset as it will\n",
    "increase time complexity and in randomised search cv we have one parameter n_iter which only \n",
    "take 10 things at at time and it work on large dataset easily with low time complexity\n",
    "'''"
   ]
  },
  {
   "cell_type": "code",
   "execution_count": 3,
   "id": "0ba77f2a-8dac-42d1-ba8d-628143714063",
   "metadata": {},
   "outputs": [
    {
     "data": {
      "text/plain": [
       "'\\ndata leakage is a problem when the model gets to know about the test data and it is not known to the \\ndomainn expertise \\n'"
      ]
     },
     "execution_count": 3,
     "metadata": {},
     "output_type": "execute_result"
    }
   ],
   "source": [
    "#q3\n",
    "'''\n",
    "data leakage is a problem when the model gets to know about the test data and it is not known to the \n",
    "domainn expertise \n",
    "'''"
   ]
  },
  {
   "cell_type": "code",
   "execution_count": 4,
   "id": "ec6b4899-ff42-4269-a315-706417d86b33",
   "metadata": {},
   "outputs": [
    {
     "data": {
      "text/plain": [
       "'\\n1. strict data awareness\\n2. feature enginnering awareness\\n3. time series analysis\\n'"
      ]
     },
     "execution_count": 4,
     "metadata": {},
     "output_type": "execute_result"
    }
   ],
   "source": [
    "#q4\n",
    "'''\n",
    "1. strict data \n",
    "2. feature enginnerawarenessing awareness\n",
    "3. time series analysis\n",
    "'''"
   ]
  },
  {
   "cell_type": "code",
   "execution_count": 5,
   "id": "21501f6e-1944-41a7-888f-541c9cdddf4f",
   "metadata": {},
   "outputs": [
    {
     "data": {
      "text/plain": [
       "\"\\nPrecision focuses on the accuracy of positive predictions made by the model. \\nIt is about minimizing false positives.\\nRecall focuses on the model's ability to capture all positive instances. It is about minimizing false \\nnegatives.\\n\""
      ]
     },
     "execution_count": 5,
     "metadata": {},
     "output_type": "execute_result"
    }
   ],
   "source": [
    "#q6\n",
    "'''\n",
    "Precision focuses on the accuracy of positive predictions made by the model. \n",
    "It is about minimizing false positives.\n",
    "Recall focuses on the model's ability to capture all positive instances. It is about minimizing false \n",
    "negatives.\n",
    "'''\n"
   ]
  },
  {
   "cell_type": "code",
   "execution_count": 6,
   "id": "fa249c7a-6625-4b2d-8289-c1cdcfe69f9f",
   "metadata": {},
   "outputs": [
    {
     "data": {
      "text/plain": [
       "\"\\nInterpreting a confusion matrix is a crucial step in understanding the performance of a classification model\\nand identifying the types of errors it is making. A confusion matrix is a table that summarizes the model's \\npredictions against the true class labels. It consists of four\\nmain components: True Positives (TP), True Negatives (TN), False Positives (FP), and False Negatives (FN).\\n\""
      ]
     },
     "execution_count": 6,
     "metadata": {},
     "output_type": "execute_result"
    }
   ],
   "source": [
    "#q7\n",
    "'''\n",
    "Interpreting a confusion matrix is a crucial step in understanding the performance of a classification model\n",
    "and identifying the types of errors it is making. A confusion matrix is a table that summarizes the model's \n",
    "predictions against the true class labels. It consists of four\n",
    "main components: True Positives (TP), True Negatives (TN), False Positives (FP), and False Negatives (FN).\n",
    "'''\n"
   ]
  },
  {
   "cell_type": "code",
   "execution_count": 7,
   "id": "f2a23014-ca51-4b4c-a850-f1f160aff942",
   "metadata": {},
   "outputs": [
    {
     "data": {
      "text/plain": [
       "\"\\nThe accuracy of a model and the values in its confusion matrix are related, but accuracy alone doesn't \\nprovide a complete picture of a model's performance. To understand this relationship, let's break down how \\naccuracy is calculated and how it relates to the values in the confusion matrix.\\n\\nAccuracy is a common performance metric used to measure how well a classification model correctly predicts \\nboth positive and negative instances. It is calculated as:\\n\\nAccuracy = (Number of Correct Predictions) / (Total Number of Predictions)\\n\""
      ]
     },
     "execution_count": 7,
     "metadata": {},
     "output_type": "execute_result"
    }
   ],
   "source": [
    "#q9\n",
    "'''\n",
    "The accuracy of a model and the values in its confusion matrix are related, but accuracy alone doesn't \n",
    "provide a complete picture of a model's performance. To understand this relationship, let's break down how \n",
    "accuracy is calculated and how it relates to the values in the confusion matrix.\n",
    "\n",
    "Accuracy is a common performance metric used to measure how well a classification model correctly predicts \n",
    "both positive and negative instances. It is calculated as:\n",
    "\n",
    "Accuracy = (Number of Correct Predictions) / (Total Number of Predictions)\n",
    "'''"
   ]
  },
  {
   "cell_type": "code",
   "execution_count": null,
   "id": "d645e711-827f-4511-8f68-6f92ff1fd3ab",
   "metadata": {},
   "outputs": [],
   "source": []
  }
 ],
 "metadata": {
  "kernelspec": {
   "display_name": "Python 3 (ipykernel)",
   "language": "python",
   "name": "python3"
  },
  "language_info": {
   "codemirror_mode": {
    "name": "ipython",
    "version": 3
   },
   "file_extension": ".py",
   "mimetype": "text/x-python",
   "name": "python",
   "nbconvert_exporter": "python",
   "pygments_lexer": "ipython3",
   "version": "3.10.8"
  }
 },
 "nbformat": 4,
 "nbformat_minor": 5
}
